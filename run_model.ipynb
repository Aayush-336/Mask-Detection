{
 "cells": [
  {
   "cell_type": "code",
   "execution_count": 1,
   "id": "965cac6a",
   "metadata": {},
   "outputs": [],
   "source": [
    "import cv2\n",
    "import pickle\n",
    "#from sklearn.decomposition import PCA\n",
    "with open('ml_module.pkl','rb') as fp:\n",
    "    svm = pickle.load(fp)\n",
    "# pca = PCA(n_components=3)\n",
    "haar_data = cv2.CascadeClassifier('haarcascade_frontalface_default.xml')"
   ]
  },
  {
   "cell_type": "code",
   "execution_count": 7,
   "id": "babe5bb3",
   "metadata": {},
   "outputs": [],
   "source": [
    "category = ['Mask','No Mask']\n",
    "haar_data = cv2.CascadeClassifier('haarcascade_frontalface_default.xml')\n",
    "data = []\n",
    "cap = cv2.VideoCapture(0)\n",
    "font = cv2.FONT_HERSHEY_COMPLEX\n",
    "while True:\n",
    "    flag,img = cap.read()\n",
    "    if flag:\n",
    "        rect_arr = haar_data.detectMultiScale(img)        \n",
    "        \n",
    "        for x,y,w,h in rect_arr:\n",
    "            cv2.rectangle(img,(x,y),(x+w,y+w),(255,0,255),4)\n",
    "            face = img[y:y+h,x:x+w,:]\n",
    "            face = cv2.resize(face,(100,100))\n",
    "            face = face.reshape(1,-1)\n",
    "#             face = pca.transform(face)\n",
    "            pred_prob = svm.predict_proba(face)\n",
    "            pred = svm.predict(face)\n",
    "            n = category[int(max(pred))] +\"  \"+ str('%.2f'%(max(pred_prob[0])*100)) +'%'\n",
    "            cv2.putText(img,n,(x,y),font,1,(230,230,230),2)\n",
    "\n",
    "        cv2.imshow('result',img)\n",
    "        if cv2.waitKey(2) == 27:\n",
    "            break\n",
    "cap.release()\n",
    "cv2.destroyAllWindows()\n",
    "    "
   ]
  },
  {
   "cell_type": "code",
   "execution_count": null,
   "id": "daf3899b",
   "metadata": {},
   "outputs": [],
   "source": []
  }
 ],
 "metadata": {
  "kernelspec": {
   "display_name": "Python 3",
   "language": "python",
   "name": "python3"
  },
  "language_info": {
   "codemirror_mode": {
    "name": "ipython",
    "version": 3
   },
   "file_extension": ".py",
   "mimetype": "text/x-python",
   "name": "python",
   "nbconvert_exporter": "python",
   "pygments_lexer": "ipython3",
   "version": "3.8.8"
  }
 },
 "nbformat": 4,
 "nbformat_minor": 5
}
