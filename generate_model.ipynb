{
 "cells": [
  {
   "cell_type": "code",
   "execution_count": 1,
   "id": "8d2e78de",
   "metadata": {},
   "outputs": [],
   "source": [
    "import numpy as np\n",
    "import cv2"
   ]
  },
  {
   "cell_type": "code",
   "execution_count": 2,
   "id": "95ba7f4b",
   "metadata": {},
   "outputs": [],
   "source": [
    "with_mask = np.load('with_mask1.npy')\n",
    "without_mask = np.load('without_mask1.npy')"
   ]
  },
  {
   "cell_type": "code",
   "execution_count": 3,
   "id": "5bb84c0d",
   "metadata": {},
   "outputs": [
    {
     "data": {
      "text/plain": [
       "(1918, 100, 100, 3)"
      ]
     },
     "execution_count": 3,
     "metadata": {},
     "output_type": "execute_result"
    }
   ],
   "source": [
    "with_mask.shape\n",
    "without_mask.shape"
   ]
  },
  {
   "cell_type": "code",
   "execution_count": 4,
   "id": "a0228684",
   "metadata": {},
   "outputs": [],
   "source": [
    "with_mask = with_mask.reshape(with_mask.shape[0],100*100*3)\n",
    "without_mask = without_mask.reshape(without_mask.shape[0],100*100*3)"
   ]
  },
  {
   "cell_type": "code",
   "execution_count": 5,
   "id": "61dcaa5b",
   "metadata": {},
   "outputs": [],
   "source": [
    "X = np.r_[with_mask,without_mask]"
   ]
  },
  {
   "cell_type": "code",
   "execution_count": 6,
   "id": "bae81137",
   "metadata": {},
   "outputs": [],
   "source": [
    "labels = np.zeros(X.shape[0])"
   ]
  },
  {
   "cell_type": "code",
   "execution_count": 7,
   "id": "482cd048",
   "metadata": {},
   "outputs": [],
   "source": [
    "labels[with_mask.shape[0]:] = 1.0"
   ]
  },
  {
   "cell_type": "code",
   "execution_count": null,
   "id": "6f5d5c84",
   "metadata": {},
   "outputs": [],
   "source": []
  },
  {
   "cell_type": "code",
   "execution_count": 8,
   "id": "2e594152",
   "metadata": {},
   "outputs": [],
   "source": [
    "from sklearn.svm import SVC\n",
    "from sklearn.metrics import accuracy_score"
   ]
  },
  {
   "cell_type": "code",
   "execution_count": 9,
   "id": "6b7abc03",
   "metadata": {},
   "outputs": [],
   "source": [
    "from sklearn.model_selection import train_test_split"
   ]
  },
  {
   "cell_type": "code",
   "execution_count": 10,
   "id": "56b23672",
   "metadata": {},
   "outputs": [],
   "source": [
    "x_train , x_test ,y_train , y_test = train_test_split(X,labels,test_size = 0.05)"
   ]
  },
  {
   "cell_type": "code",
   "execution_count": 11,
   "id": "7f8c9307",
   "metadata": {},
   "outputs": [],
   "source": [
    "# from sklearn.decomposition import PCA"
   ]
  },
  {
   "cell_type": "code",
   "execution_count": 12,
   "id": "e527e2c6",
   "metadata": {},
   "outputs": [],
   "source": [
    "# pca = PCA(n_components=3)\n",
    "# x_train = pca.fit_transform(x_train)"
   ]
  },
  {
   "cell_type": "code",
   "execution_count": 13,
   "id": "28eaf8dc",
   "metadata": {},
   "outputs": [
    {
     "data": {
      "text/plain": [
       "SVC(probability=True)"
      ]
     },
     "execution_count": 13,
     "metadata": {},
     "output_type": "execute_result"
    }
   ],
   "source": [
    "svm = SVC(probability = True)\n",
    "svm.fit(x_train,y_train)\n",
    "# print(y_train)"
   ]
  },
  {
   "cell_type": "code",
   "execution_count": 14,
   "id": "bd931313",
   "metadata": {},
   "outputs": [],
   "source": [
    "# x_test = pca.transform(x_test)\n",
    "y_pred = svm.predict(x_test)"
   ]
  },
  {
   "cell_type": "code",
   "execution_count": 15,
   "id": "024bb7d9",
   "metadata": {},
   "outputs": [
    {
     "data": {
      "text/plain": [
       "0.9114583333333334"
      ]
     },
     "execution_count": 15,
     "metadata": {},
     "output_type": "execute_result"
    }
   ],
   "source": [
    "accuracy_score(y_test,y_pred)"
   ]
  },
  {
   "cell_type": "code",
   "execution_count": 150,
   "id": "ab6f9053",
   "metadata": {},
   "outputs": [],
   "source": [
    "category = ['Mask','No Mask']\n",
    "haar_data = cv2.CascadeClassifier('haarcascade_frontalface_default.xml')\n",
    "data = []\n",
    "cap = cv2.VideoCapture(0)\n",
    "font = cv2.FONT_HERSHEY_COMPLEX\n",
    "while True:\n",
    "    flag,img = cap.read()\n",
    "    if flag:\n",
    "        rect_arr = haar_data.detectMultiScale(img)        \n",
    "        \n",
    "        for x,y,w,h in rect_arr:\n",
    "            cv2.rectangle(img,(x,y),(x+w,y+w),(255,0,255),4)\n",
    "            face = img[y:y+h,x:x+w,:]\n",
    "            face = cv2.resize(face,(100,100))\n",
    "            face = face.reshape(1,-1)\n",
    "#             face = pca.transform(face)\n",
    "            pred = svm.predict(face)\n",
    "            n = category[int(pred)]\n",
    "            cv2.putText(img,n,(x,y),font,1,(230,230,230),2)\n",
    "\n",
    "        cv2.imshow('result',img)\n",
    "        if cv2.waitKey(2) == 27:\n",
    "            break\n",
    "cap.release()\n",
    "cv2.destroyAllWindows()\n",
    "    "
   ]
  },
  {
   "cell_type": "code",
   "execution_count": 16,
   "id": "5926be29",
   "metadata": {},
   "outputs": [],
   "source": [
    "import pickle\n"
   ]
  },
  {
   "cell_type": "code",
   "execution_count": 17,
   "id": "eee8a950",
   "metadata": {},
   "outputs": [],
   "source": [
    "with open('ml_module.pkl','wb') as fp:\n",
    "    pickle.dump(svm,fp)"
   ]
  },
  {
   "cell_type": "code",
   "execution_count": null,
   "id": "08448469",
   "metadata": {},
   "outputs": [],
   "source": []
  }
 ],
 "metadata": {
  "kernelspec": {
   "display_name": "Python 3",
   "language": "python",
   "name": "python3"
  },
  "language_info": {
   "codemirror_mode": {
    "name": "ipython",
    "version": 3
   },
   "file_extension": ".py",
   "mimetype": "text/x-python",
   "name": "python",
   "nbconvert_exporter": "python",
   "pygments_lexer": "ipython3",
   "version": "3.8.8"
  }
 },
 "nbformat": 4,
 "nbformat_minor": 5
}
